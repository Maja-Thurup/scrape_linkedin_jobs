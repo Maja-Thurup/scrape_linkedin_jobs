{
 "cells": [
  {
   "cell_type": "code",
   "execution_count": 65,
   "metadata": {},
   "outputs": [],
   "source": [
    "from selenium import webdriver\n",
    "from selenium.webdriver.common.keys import Keys\n",
    "from bs4 import BeautifulSoup\n",
    "\n",
    "import time\n",
    "\n",
    "import pandas as pd\n",
    "import matplotlib.pyplot as plt"
   ]
  },
  {
   "cell_type": "code",
   "execution_count": 2,
   "metadata": {},
   "outputs": [],
   "source": [
    "url= 'https://www.linkedin.com/jobs'"
   ]
  },
  {
   "cell_type": "code",
   "execution_count": 3,
   "metadata": {},
   "outputs": [],
   "source": [
    "driver = webdriver.Chrome()"
   ]
  },
  {
   "cell_type": "code",
   "execution_count": 4,
   "metadata": {},
   "outputs": [],
   "source": [
    "driver.get(url)"
   ]
  },
  {
   "cell_type": "code",
   "execution_count": 5,
   "metadata": {},
   "outputs": [],
   "source": [
    "job_title = driver.find_element_by_xpath('//*[@id=\"JOBS\"]/section[1]/input')"
   ]
  },
  {
   "cell_type": "code",
   "execution_count": 6,
   "metadata": {},
   "outputs": [],
   "source": [
    "job_title.send_keys('data scientist')"
   ]
  },
  {
   "cell_type": "code",
   "execution_count": 7,
   "metadata": {},
   "outputs": [],
   "source": [
    "location = driver.find_element_by_xpath('//*[@id=\"JOBS\"]/section[2]/input')"
   ]
  },
  {
   "cell_type": "code",
   "execution_count": 8,
   "metadata": {},
   "outputs": [],
   "source": [
    "location.send_keys('New York, NY')"
   ]
  },
  {
   "cell_type": "code",
   "execution_count": 9,
   "metadata": {},
   "outputs": [],
   "source": [
    "location.clear()"
   ]
  },
  {
   "cell_type": "code",
   "execution_count": 10,
   "metadata": {},
   "outputs": [],
   "source": [
    "location.send_keys('New York, NY')"
   ]
  },
  {
   "cell_type": "code",
   "execution_count": 12,
   "metadata": {},
   "outputs": [],
   "source": [
    "location.send_keys(Keys.ENTER)"
   ]
  },
  {
   "cell_type": "code",
   "execution_count": 13,
   "metadata": {},
   "outputs": [
    {
     "data": {
      "text/plain": [
       "11104"
      ]
     },
     "execution_count": 13,
     "metadata": {},
     "output_type": "execute_result"
    }
   ],
   "source": [
    "driver.execute_script('return document.body.scrollHeight')"
   ]
  },
  {
   "cell_type": "code",
   "execution_count": 16,
   "metadata": {},
   "outputs": [],
   "source": [
    "driver.execute_script('window.scrollTo(0, 11104)')"
   ]
  },
  {
   "cell_type": "code",
   "execution_count": 17,
   "metadata": {},
   "outputs": [
    {
     "data": {
      "text/plain": [
       "14504"
      ]
     },
     "execution_count": 17,
     "metadata": {},
     "output_type": "execute_result"
    }
   ],
   "source": [
    "driver.execute_script('return document.body.scrollHeight')"
   ]
  },
  {
   "cell_type": "code",
   "execution_count": 18,
   "metadata": {},
   "outputs": [],
   "source": [
    "driver.execute_script('window.scrollTo(0, 11104)')"
   ]
  },
  {
   "cell_type": "code",
   "execution_count": 21,
   "metadata": {},
   "outputs": [],
   "source": [
    "initial_height = driver.execute_script('return document.body.scrollHeight')\n",
    "\n",
    "while True:\n",
    "    \n",
    "    driver.execute_script('window.scrollTo(0, document.body.scrollHeight)')\n",
    "                          \n",
    "    time.sleep(5)\n",
    "                          \n",
    "    new_height = driver.execute_script('return document.body.scrollHeight')\n",
    "    \n",
    "    if new_height == initial_height:\n",
    "        break\n",
    "    initial_height = new_height"
   ]
  },
  {
   "cell_type": "code",
   "execution_count": 22,
   "metadata": {},
   "outputs": [],
   "source": [
    "more_jobs = driver.find_element_by_xpath('//*[@id=\"main-content\"]/div/section/button')"
   ]
  },
  {
   "cell_type": "code",
   "execution_count": 23,
   "metadata": {},
   "outputs": [],
   "source": [
    "more_jobs.click()"
   ]
  },
  {
   "cell_type": "code",
   "execution_count": 24,
   "metadata": {},
   "outputs": [],
   "source": [
    "initial_height = driver.execute_script('return document.body.scrollHeight')\n",
    "\n",
    "while True:\n",
    "    \n",
    "    more_jobs.click()\n",
    "                          \n",
    "    time.sleep(5)\n",
    "                          \n",
    "    new_height = driver.execute_script('return document.body.scrollHeight')\n",
    "    \n",
    "    if new_height == initial_height:\n",
    "        break\n",
    "    initial_height = new_height"
   ]
  },
  {
   "cell_type": "code",
   "execution_count": 26,
   "metadata": {},
   "outputs": [],
   "source": [
    "my_html = driver.page_source"
   ]
  },
  {
   "cell_type": "code",
   "execution_count": 27,
   "metadata": {},
   "outputs": [],
   "source": [
    "soup = BeautifulSoup(my_html, 'html.parser')"
   ]
  },
  {
   "cell_type": "code",
   "execution_count": 29,
   "metadata": {},
   "outputs": [],
   "source": [
    "# job title\n",
    "job_1 = soup.find('div', class_ = 'result-card__contents job-result-card__contents')"
   ]
  },
  {
   "cell_type": "code",
   "execution_count": 33,
   "metadata": {},
   "outputs": [
    {
     "data": {
      "text/plain": [
       "'Data Scientist'"
      ]
     },
     "execution_count": 33,
     "metadata": {},
     "output_type": "execute_result"
    }
   ],
   "source": [
    "job_1.find('h3', class_ = 'result-card__title job-result-card__title').text.strip()"
   ]
  },
  {
   "cell_type": "code",
   "execution_count": 36,
   "metadata": {},
   "outputs": [
    {
     "data": {
      "text/plain": [
       "'TBWA\\\\Chiat\\\\Day'"
      ]
     },
     "execution_count": 36,
     "metadata": {},
     "output_type": "execute_result"
    }
   ],
   "source": [
    "# company \n",
    "job_1.find('a').text.strip()"
   ]
  },
  {
   "cell_type": "code",
   "execution_count": 38,
   "metadata": {},
   "outputs": [
    {
     "data": {
      "text/plain": [
       "'New York, United States'"
      ]
     },
     "execution_count": 38,
     "metadata": {},
     "output_type": "execute_result"
    }
   ],
   "source": [
    "# location\n",
    "job_1.find('span', class_ = 'job-result-card__location').text.strip()"
   ]
  },
  {
   "cell_type": "code",
   "execution_count": 42,
   "metadata": {},
   "outputs": [
    {
     "data": {
      "text/plain": [
       "'2020-05-26'"
      ]
     },
     "execution_count": 42,
     "metadata": {},
     "output_type": "execute_result"
    }
   ],
   "source": [
    "# posting date\n",
    "job_1.find('time')['datetime']"
   ]
  },
  {
   "cell_type": "code",
   "execution_count": 43,
   "metadata": {},
   "outputs": [],
   "source": [
    "all_jobs = soup.findAll('div', class_ = 'result-card__contents job-result-card__contents')"
   ]
  },
  {
   "cell_type": "code",
   "execution_count": 44,
   "metadata": {},
   "outputs": [
    {
     "data": {
      "text/plain": [
       "1000"
      ]
     },
     "execution_count": 44,
     "metadata": {},
     "output_type": "execute_result"
    }
   ],
   "source": [
    "len(all_jobs)"
   ]
  },
  {
   "cell_type": "code",
   "execution_count": 59,
   "metadata": {},
   "outputs": [],
   "source": [
    "job_title = []\n",
    "company = []\n",
    "location = []\n",
    "posting_date = []\n",
    "\n",
    "\n",
    "for count, job in enumerate(all_jobs):\n",
    "    jt = job.find('h3', class_ = 'result-card__title job-result-card__title').text.strip()\n",
    "    job_title.append(jt)\n",
    "    \n",
    "    # company \n",
    "    comp = job.find('h4').text.strip()\n",
    "    company.append(comp)\n",
    "    \n",
    "    # location\n",
    "    loca = job.find('span', class_ = 'job-result-card__location').text.strip()\n",
    "    location.append(loca)\n",
    "    \n",
    "    # posting_date \n",
    "    post_date = job.find('time')['datetime']\n",
    "    posting_date.append(post_date)"
   ]
  },
  {
   "cell_type": "code",
   "execution_count": 61,
   "metadata": {},
   "outputs": [],
   "source": [
    "df = pd.DataFrame({'job_title': job_title,\n",
    "                  'company': company,\n",
    "                  'location': location,\n",
    "                  'posting_date': posting_date})"
   ]
  },
  {
   "cell_type": "code",
   "execution_count": 63,
   "metadata": {},
   "outputs": [],
   "source": [
    "df['posting_date'] = pd.to_datetime(df['posting_date'])"
   ]
  },
  {
   "cell_type": "code",
   "execution_count": 68,
   "metadata": {},
   "outputs": [
    {
     "data": {
      "image/png": "[encoded data removed]",
      "text/plain": [
       "<Figure size 864x288 with 1 Axes>"
      ]
     },
     "metadata": {},
     "output_type": "display_data"
    }
   ],
   "source": [
    "with plt.style.context('fivethirtyeight'):\n",
    "    df.set_index('posting_date').resample('D')['company'].count().plot(kind = 'line', figsize = (12, 4))"
   ]
  },
  {
   "cell_type": "code",
   "execution_count": 72,
   "metadata": {},
   "outputs": [
    {
     "data": {
      "image/png": "[encoded data removed]",
      "text/plain": [
       "<Figure size 864x288 with 1 Axes>"
      ]
     },
     "metadata": {},
     "output_type": "display_data"
    }
   ],
   "source": [
    "with plt.style.context('fivethirtyeight'):\n",
    "    df[df['posting_date'] > '05/01/2020'].set_index('posting_date').resample('D')['company'].count().plot(kind = 'line', figsize = (12, 4))"
   ]
  },
  {
   "cell_type": "code",
   "execution_count": 74,
   "metadata": {},
   "outputs": [
    {
     "data": {
      "text/plain": [
       "posting_date\n",
       "2020-05-02    18\n",
       "2020-05-03     8\n",
       "2020-05-04    13\n",
       "2020-05-05    17\n",
       "2020-05-06    12\n",
       "2020-05-07    35\n",
       "2020-05-08    25\n",
       "2020-05-09    15\n",
       "2020-05-10     9\n",
       "2020-05-11    16\n",
       "2020-05-12    14\n",
       "2020-05-13    15\n",
       "2020-05-14    28\n",
       "2020-05-15    37\n",
       "2020-05-16     9\n",
       "2020-05-17    10\n",
       "2020-05-18    11\n",
       "2020-05-19    41\n",
       "2020-05-20    32\n",
       "2020-05-21    46\n",
       "2020-05-22    40\n",
       "2020-05-23    30\n",
       "2020-05-24    18\n",
       "2020-05-25     7\n",
       "2020-05-26    29\n",
       "2020-05-27    27\n",
       "Freq: D, Name: company, dtype: int64"
      ]
     },
     "execution_count": 74,
     "metadata": {},
     "output_type": "execute_result"
    }
   ],
   "source": [
    "df[df['posting_date'] > '05/01/2020'].set_index('posting_date').resample('D')['company'].count()"
   ]
  },
  {
   "cell_type": "code",
   "execution_count": 76,
   "metadata": {},
   "outputs": [
    {
     "data": {
      "text/html": [
       "<div>\n",
       "<style scoped>\n",
       "    .dataframe tbody tr th:only-of-type {\n",
       "        vertical-align: middle;\n",
       "    }\n",
       "\n",
       "    .dataframe tbody tr th {\n",
       "        vertical-align: top;\n",
       "    }\n",
       "\n",
       "    .dataframe thead th {\n",
       "        text-align: right;\n",
       "    }\n",
       "</style>\n",
       "<table border=\"1\" class=\"dataframe\">\n",
       "  <thead>\n",
       "    <tr style=\"text-align: right;\">\n",
       "      <th></th>\n",
       "      <th>job_title</th>\n",
       "      <th>company</th>\n",
       "      <th>location</th>\n",
       "      <th>posting_date</th>\n",
       "    </tr>\n",
       "  </thead>\n",
       "  <tbody>\n",
       "    <tr>\n",
       "      <td>4</td>\n",
       "      <td>Data Scientist</td>\n",
       "      <td>Voice</td>\n",
       "      <td>New York City Metropolitan Area</td>\n",
       "      <td>2020-05-21</td>\n",
       "    </tr>\n",
       "    <tr>\n",
       "      <td>8</td>\n",
       "      <td>Data Scientist, Analytics</td>\n",
       "      <td>Facebook</td>\n",
       "      <td>New York, NY</td>\n",
       "      <td>2020-05-21</td>\n",
       "    </tr>\n",
       "    <tr>\n",
       "      <td>21</td>\n",
       "      <td>Energy Tech Startup - Data Scientist</td>\n",
       "      <td>Huxley</td>\n",
       "      <td>New York, NY</td>\n",
       "      <td>2020-05-21</td>\n",
       "    </tr>\n",
       "    <tr>\n",
       "      <td>22</td>\n",
       "      <td>Data Scientist - Analytics Team</td>\n",
       "      <td>Point72</td>\n",
       "      <td>New York, NY</td>\n",
       "      <td>2020-05-21</td>\n",
       "    </tr>\n",
       "    <tr>\n",
       "      <td>29</td>\n",
       "      <td>Energy Tech Startup - Data Scientist</td>\n",
       "      <td>Huxley</td>\n",
       "      <td>New York, New York, United States</td>\n",
       "      <td>2020-05-21</td>\n",
       "    </tr>\n",
       "    <tr>\n",
       "      <td>33</td>\n",
       "      <td>Data Scientist</td>\n",
       "      <td>Openly</td>\n",
       "      <td>New York City Metropolitan Area</td>\n",
       "      <td>2020-05-21</td>\n",
       "    </tr>\n",
       "    <tr>\n",
       "      <td>42</td>\n",
       "      <td>Business Data Analyst</td>\n",
       "      <td>Oscar Health</td>\n",
       "      <td>New York, New York, United States</td>\n",
       "      <td>2020-05-21</td>\n",
       "    </tr>\n",
       "    <tr>\n",
       "      <td>69</td>\n",
       "      <td>Data Scientist</td>\n",
       "      <td>USI Insurance Services</td>\n",
       "      <td>Valhalla, New York, United States</td>\n",
       "      <td>2020-05-21</td>\n",
       "    </tr>\n",
       "    <tr>\n",
       "      <td>89</td>\n",
       "      <td>Data Scientist, Junior</td>\n",
       "      <td>Booz Allen Hamilton</td>\n",
       "      <td>Rome, New York, United States</td>\n",
       "      <td>2020-05-21</td>\n",
       "    </tr>\n",
       "    <tr>\n",
       "      <td>112</td>\n",
       "      <td>Data Scientist</td>\n",
       "      <td>USI Insurance Services</td>\n",
       "      <td>Valhalla, New York, United States</td>\n",
       "      <td>2020-05-21</td>\n",
       "    </tr>\n",
       "    <tr>\n",
       "      <td>178</td>\n",
       "      <td>Senior Data Scientist, Data Science Operations</td>\n",
       "      <td>Squarespace</td>\n",
       "      <td>New York, New York, United States</td>\n",
       "      <td>2020-05-21</td>\n",
       "    </tr>\n",
       "    <tr>\n",
       "      <td>183</td>\n",
       "      <td>Data Scientist - Operations, New York</td>\n",
       "      <td>The Adecco Group</td>\n",
       "      <td>New York, New York, United States</td>\n",
       "      <td>2020-05-21</td>\n",
       "    </tr>\n",
       "    <tr>\n",
       "      <td>199</td>\n",
       "      <td>AVP, Data &amp; Analytics (New York #49337)</td>\n",
       "      <td>DW Simpson Global Actuarial &amp; Analytics Recrui...</td>\n",
       "      <td>New York, United States</td>\n",
       "      <td>2020-05-21</td>\n",
       "    </tr>\n",
       "    <tr>\n",
       "      <td>201</td>\n",
       "      <td>AVP, Data &amp; Analytics (New York #49337)</td>\n",
       "      <td>DW Simpson Global Actuarial &amp; Analytics Recrui...</td>\n",
       "      <td>New York, United States</td>\n",
       "      <td>2020-05-21</td>\n",
       "    </tr>\n",
       "    <tr>\n",
       "      <td>274</td>\n",
       "      <td>Sr Data Analyst/Capital Market</td>\n",
       "      <td>Iris Software Inc.</td>\n",
       "      <td>New York, United States</td>\n",
       "      <td>2020-05-21</td>\n",
       "    </tr>\n",
       "    <tr>\n",
       "      <td>277</td>\n",
       "      <td>Junior Data Analyst</td>\n",
       "      <td>Kforce Inc</td>\n",
       "      <td>New York, New York, United States</td>\n",
       "      <td>2020-05-21</td>\n",
       "    </tr>\n",
       "    <tr>\n",
       "      <td>316</td>\n",
       "      <td>Data Analyst II</td>\n",
       "      <td>Policygenius Inc.</td>\n",
       "      <td>New York, New York, United States</td>\n",
       "      <td>2020-05-21</td>\n",
       "    </tr>\n",
       "    <tr>\n",
       "      <td>346</td>\n",
       "      <td>Bioinformatics Data Analyst</td>\n",
       "      <td>Regeneron Pharmaceuticals, Inc.</td>\n",
       "      <td>Tarrytown, New York, United States</td>\n",
       "      <td>2020-05-21</td>\n",
       "    </tr>\n",
       "    <tr>\n",
       "      <td>356</td>\n",
       "      <td>Business Info Data Analyst</td>\n",
       "      <td>Beacon Health Options</td>\n",
       "      <td>Albany, New York Metropolitan Area</td>\n",
       "      <td>2020-05-21</td>\n",
       "    </tr>\n",
       "    <tr>\n",
       "      <td>359</td>\n",
       "      <td>VP, Data Science</td>\n",
       "      <td>7Park Data</td>\n",
       "      <td>New York, New York, United States</td>\n",
       "      <td>2020-05-21</td>\n",
       "    </tr>\n",
       "    <tr>\n",
       "      <td>381</td>\n",
       "      <td>Data Science Associate</td>\n",
       "      <td>Via</td>\n",
       "      <td>New York, New York, United States</td>\n",
       "      <td>2020-05-21</td>\n",
       "    </tr>\n",
       "    <tr>\n",
       "      <td>382</td>\n",
       "      <td>Computational Biologist</td>\n",
       "      <td>OneThree Biotech</td>\n",
       "      <td>New York, New York, United States</td>\n",
       "      <td>2020-05-21</td>\n",
       "    </tr>\n",
       "    <tr>\n",
       "      <td>384</td>\n",
       "      <td>Consumer Lending Data Analyst</td>\n",
       "      <td>Informa Intelligence</td>\n",
       "      <td>New York, New York, United States</td>\n",
       "      <td>2020-05-21</td>\n",
       "    </tr>\n",
       "    <tr>\n",
       "      <td>401</td>\n",
       "      <td>Senior Data Scientist</td>\n",
       "      <td>Harnham</td>\n",
       "      <td>New York, New York, United States</td>\n",
       "      <td>2020-05-21</td>\n",
       "    </tr>\n",
       "    <tr>\n",
       "      <td>429</td>\n",
       "      <td>Data Scientist - Business, New York</td>\n",
       "      <td>The Adecco Group</td>\n",
       "      <td>New York, New York, United States</td>\n",
       "      <td>2020-05-21</td>\n",
       "    </tr>\n",
       "    <tr>\n",
       "      <td>475</td>\n",
       "      <td>Lead Data Scientist to support Data Analytics ...</td>\n",
       "      <td>Citi</td>\n",
       "      <td>New York, New York, United States</td>\n",
       "      <td>2020-05-21</td>\n",
       "    </tr>\n",
       "    <tr>\n",
       "      <td>516</td>\n",
       "      <td>Data Analyst</td>\n",
       "      <td>ExecOnline, Inc.</td>\n",
       "      <td>New York City Metropolitan Area</td>\n",
       "      <td>2020-05-21</td>\n",
       "    </tr>\n",
       "    <tr>\n",
       "      <td>534</td>\n",
       "      <td>Intermediate Remote Sensing Scientist / Engineer</td>\n",
       "      <td>Frontier Technology</td>\n",
       "      <td>New York, New York, United States</td>\n",
       "      <td>2020-05-21</td>\n",
       "    </tr>\n",
       "    <tr>\n",
       "      <td>598</td>\n",
       "      <td>Lead Data Scientist</td>\n",
       "      <td>Harnham</td>\n",
       "      <td>New York, New York, United States</td>\n",
       "      <td>2020-05-21</td>\n",
       "    </tr>\n",
       "    <tr>\n",
       "      <td>639</td>\n",
       "      <td>Data Scientist - Machine Learning, New York</td>\n",
       "      <td>The Adecco Group</td>\n",
       "      <td>New York, New York, United States</td>\n",
       "      <td>2020-05-21</td>\n",
       "    </tr>\n",
       "    <tr>\n",
       "      <td>686</td>\n",
       "      <td>Intermediate Remote Sensing Scientist / Engineer</td>\n",
       "      <td>Frontier Technology</td>\n",
       "      <td>Ithaca, New York, United States</td>\n",
       "      <td>2020-05-21</td>\n",
       "    </tr>\n",
       "    <tr>\n",
       "      <td>694</td>\n",
       "      <td>Big Data Systems Engineer</td>\n",
       "      <td>AT&amp;T</td>\n",
       "      <td>New York, New York, United States</td>\n",
       "      <td>2020-05-21</td>\n",
       "    </tr>\n",
       "    <tr>\n",
       "      <td>714</td>\n",
       "      <td>Data Analyst</td>\n",
       "      <td>VelvetJobs</td>\n",
       "      <td>White Plains, New York, United States</td>\n",
       "      <td>2020-05-21</td>\n",
       "    </tr>\n",
       "    <tr>\n",
       "      <td>718</td>\n",
       "      <td>Causal Inference Specialist (Data Scientist)</td>\n",
       "      <td>Harnham</td>\n",
       "      <td>New York, United States</td>\n",
       "      <td>2020-05-21</td>\n",
       "    </tr>\n",
       "    <tr>\n",
       "      <td>729</td>\n",
       "      <td>Renewable Energy Tech Startup - Data Scientist</td>\n",
       "      <td>Huxley</td>\n",
       "      <td>New York, New York, United States</td>\n",
       "      <td>2020-05-21</td>\n",
       "    </tr>\n",
       "    <tr>\n",
       "      <td>765</td>\n",
       "      <td>Intermediate Remote Sensing Scientist / Engineer</td>\n",
       "      <td>Frontier Technology</td>\n",
       "      <td>New York, New York, United States</td>\n",
       "      <td>2020-05-21</td>\n",
       "    </tr>\n",
       "    <tr>\n",
       "      <td>803</td>\n",
       "      <td>Renewable Energy Tech Startup - Data Scientist</td>\n",
       "      <td>Huxley</td>\n",
       "      <td>New York, New York, United States</td>\n",
       "      <td>2020-05-21</td>\n",
       "    </tr>\n",
       "    <tr>\n",
       "      <td>804</td>\n",
       "      <td>Lead Digital Innovator - Commercial Analytics</td>\n",
       "      <td>Roivant Sciences</td>\n",
       "      <td>New York, New York, United States</td>\n",
       "      <td>2020-05-21</td>\n",
       "    </tr>\n",
       "    <tr>\n",
       "      <td>835</td>\n",
       "      <td>Intermediate Remote Sensing Scientist / Engineer</td>\n",
       "      <td>Frontier Technology</td>\n",
       "      <td>Rochester, New York, United States</td>\n",
       "      <td>2020-05-21</td>\n",
       "    </tr>\n",
       "    <tr>\n",
       "      <td>878</td>\n",
       "      <td>Intermediate Remote Sensing Scientist / Engineer</td>\n",
       "      <td>Frontier Technology</td>\n",
       "      <td>Ithaca, New York, United States</td>\n",
       "      <td>2020-05-21</td>\n",
       "    </tr>\n",
       "    <tr>\n",
       "      <td>913</td>\n",
       "      <td>Intermediate Remote Sensing Scientist / Engineer</td>\n",
       "      <td>Frontier Technology</td>\n",
       "      <td>Stony Brook, New York, United States</td>\n",
       "      <td>2020-05-21</td>\n",
       "    </tr>\n",
       "    <tr>\n",
       "      <td>941</td>\n",
       "      <td>Intermediate Remote Sensing Scientist / Engineer</td>\n",
       "      <td>Frontier Technology</td>\n",
       "      <td>Rochester, New York, United States</td>\n",
       "      <td>2020-05-21</td>\n",
       "    </tr>\n",
       "    <tr>\n",
       "      <td>966</td>\n",
       "      <td>Senior Associate, Data Science &amp; Analytics</td>\n",
       "      <td>VelvetJobs</td>\n",
       "      <td>New York, New York, United States</td>\n",
       "      <td>2020-05-21</td>\n",
       "    </tr>\n",
       "    <tr>\n",
       "      <td>969</td>\n",
       "      <td>Intermediate Remote Sensing Scientist / Engineer</td>\n",
       "      <td>Frontier Technology</td>\n",
       "      <td>New York, New York, United States</td>\n",
       "      <td>2020-05-21</td>\n",
       "    </tr>\n",
       "    <tr>\n",
       "      <td>976</td>\n",
       "      <td>Lead Data Scientist - 66201BR</td>\n",
       "      <td>Jobs Interviewing Now from MJH</td>\n",
       "      <td>New York, New York, United States</td>\n",
       "      <td>2020-05-21</td>\n",
       "    </tr>\n",
       "    <tr>\n",
       "      <td>989</td>\n",
       "      <td>Intermediate Remote Sensing Scientist / Engineer</td>\n",
       "      <td>Frontier Technology</td>\n",
       "      <td>Albany, New York Metropolitan Area</td>\n",
       "      <td>2020-05-21</td>\n",
       "    </tr>\n",
       "  </tbody>\n",
       "</table>\n",
       "</div>"
      ],
      "text/plain": [
       "                                             job_title  \\\n",
       "4                                       Data Scientist   \n",
       "8                            Data Scientist, Analytics   \n",
       "21                Energy Tech Startup - Data Scientist   \n",
       "22                     Data Scientist - Analytics Team   \n",
       "29                Energy Tech Startup - Data Scientist   \n",
       "33                                      Data Scientist   \n",
       "42                               Business Data Analyst   \n",
       "69                                      Data Scientist   \n",
       "89                              Data Scientist, Junior   \n",
       "112                                     Data Scientist   \n",
       "178     Senior Data Scientist, Data Science Operations   \n",
       "183              Data Scientist - Operations, New York   \n",
       "199            AVP, Data & Analytics (New York #49337)   \n",
       "201            AVP, Data & Analytics (New York #49337)   \n",
       "274                     Sr Data Analyst/Capital Market   \n",
       "277                                Junior Data Analyst   \n",
       "316                                    Data Analyst II   \n",
       "346                        Bioinformatics Data Analyst   \n",
       "356                         Business Info Data Analyst   \n",
       "359                                   VP, Data Science   \n",
       "381                             Data Science Associate   \n",
       "382                            Computational Biologist   \n",
       "384                      Consumer Lending Data Analyst   \n",
       "401                              Senior Data Scientist   \n",
       "429                Data Scientist - Business, New York   \n",
       "475  Lead Data Scientist to support Data Analytics ...   \n",
       "516                                       Data Analyst   \n",
       "534   Intermediate Remote Sensing Scientist / Engineer   \n",
       "598                                Lead Data Scientist   \n",
       "639        Data Scientist - Machine Learning, New York   \n",
       "686   Intermediate Remote Sensing Scientist / Engineer   \n",
       "694                          Big Data Systems Engineer   \n",
       "714                                       Data Analyst   \n",
       "718       Causal Inference Specialist (Data Scientist)   \n",
       "729     Renewable Energy Tech Startup - Data Scientist   \n",
       "765   Intermediate Remote Sensing Scientist / Engineer   \n",
       "803     Renewable Energy Tech Startup - Data Scientist   \n",
       "804      Lead Digital Innovator - Commercial Analytics   \n",
       "835   Intermediate Remote Sensing Scientist / Engineer   \n",
       "878   Intermediate Remote Sensing Scientist / Engineer   \n",
       "913   Intermediate Remote Sensing Scientist / Engineer   \n",
       "941   Intermediate Remote Sensing Scientist / Engineer   \n",
       "966         Senior Associate, Data Science & Analytics   \n",
       "969   Intermediate Remote Sensing Scientist / Engineer   \n",
       "976                      Lead Data Scientist - 66201BR   \n",
       "989   Intermediate Remote Sensing Scientist / Engineer   \n",
       "\n",
       "                                               company  \\\n",
       "4                                                Voice   \n",
       "8                                             Facebook   \n",
       "21                                              Huxley   \n",
       "22                                             Point72   \n",
       "29                                              Huxley   \n",
       "33                                              Openly   \n",
       "42                                        Oscar Health   \n",
       "69                              USI Insurance Services   \n",
       "89                                 Booz Allen Hamilton   \n",
       "112                             USI Insurance Services   \n",
       "178                                        Squarespace   \n",
       "183                                   The Adecco Group   \n",
       "199  DW Simpson Global Actuarial & Analytics Recrui...   \n",
       "201  DW Simpson Global Actuarial & Analytics Recrui...   \n",
       "274                                 Iris Software Inc.   \n",
       "277                                         Kforce Inc   \n",
       "316                                  Policygenius Inc.   \n",
       "346                    Regeneron Pharmaceuticals, Inc.   \n",
       "356                              Beacon Health Options   \n",
       "359                                         7Park Data   \n",
       "381                                                Via   \n",
       "382                                   OneThree Biotech   \n",
       "384                               Informa Intelligence   \n",
       "401                                            Harnham   \n",
       "429                                   The Adecco Group   \n",
       "475                                               Citi   \n",
       "516                                   ExecOnline, Inc.   \n",
       "534                                Frontier Technology   \n",
       "598                                            Harnham   \n",
       "639                                   The Adecco Group   \n",
       "686                                Frontier Technology   \n",
       "694                                               AT&T   \n",
       "714                                         VelvetJobs   \n",
       "718                                            Harnham   \n",
       "729                                             Huxley   \n",
       "765                                Frontier Technology   \n",
       "803                                             Huxley   \n",
       "804                                   Roivant Sciences   \n",
       "835                                Frontier Technology   \n",
       "878                                Frontier Technology   \n",
       "913                                Frontier Technology   \n",
       "941                                Frontier Technology   \n",
       "966                                         VelvetJobs   \n",
       "969                                Frontier Technology   \n",
       "976                     Jobs Interviewing Now from MJH   \n",
       "989                                Frontier Technology   \n",
       "\n",
       "                                  location posting_date  \n",
       "4          New York City Metropolitan Area   2020-05-21  \n",
       "8                             New York, NY   2020-05-21  \n",
       "21                            New York, NY   2020-05-21  \n",
       "22                            New York, NY   2020-05-21  \n",
       "29       New York, New York, United States   2020-05-21  \n",
       "33         New York City Metropolitan Area   2020-05-21  \n",
       "42       New York, New York, United States   2020-05-21  \n",
       "69       Valhalla, New York, United States   2020-05-21  \n",
       "89           Rome, New York, United States   2020-05-21  \n",
       "112      Valhalla, New York, United States   2020-05-21  \n",
       "178      New York, New York, United States   2020-05-21  \n",
       "183      New York, New York, United States   2020-05-21  \n",
       "199                New York, United States   2020-05-21  \n",
       "201                New York, United States   2020-05-21  \n",
       "274                New York, United States   2020-05-21  \n",
       "277      New York, New York, United States   2020-05-21  \n",
       "316      New York, New York, United States   2020-05-21  \n",
       "346     Tarrytown, New York, United States   2020-05-21  \n",
       "356     Albany, New York Metropolitan Area   2020-05-21  \n",
       "359      New York, New York, United States   2020-05-21  \n",
       "381      New York, New York, United States   2020-05-21  \n",
       "382      New York, New York, United States   2020-05-21  \n",
       "384      New York, New York, United States   2020-05-21  \n",
       "401      New York, New York, United States   2020-05-21  \n",
       "429      New York, New York, United States   2020-05-21  \n",
       "475      New York, New York, United States   2020-05-21  \n",
       "516        New York City Metropolitan Area   2020-05-21  \n",
       "534      New York, New York, United States   2020-05-21  \n",
       "598      New York, New York, United States   2020-05-21  \n",
       "639      New York, New York, United States   2020-05-21  \n",
       "686        Ithaca, New York, United States   2020-05-21  \n",
       "694      New York, New York, United States   2020-05-21  \n",
       "714  White Plains, New York, United States   2020-05-21  \n",
       "718                New York, United States   2020-05-21  \n",
       "729      New York, New York, United States   2020-05-21  \n",
       "765      New York, New York, United States   2020-05-21  \n",
       "803      New York, New York, United States   2020-05-21  \n",
       "804      New York, New York, United States   2020-05-21  \n",
       "835     Rochester, New York, United States   2020-05-21  \n",
       "878        Ithaca, New York, United States   2020-05-21  \n",
       "913   Stony Brook, New York, United States   2020-05-21  \n",
       "941     Rochester, New York, United States   2020-05-21  \n",
       "966      New York, New York, United States   2020-05-21  \n",
       "969      New York, New York, United States   2020-05-21  \n",
       "976      New York, New York, United States   2020-05-21  \n",
       "989     Albany, New York Metropolitan Area   2020-05-21  "
      ]
     },
     "execution_count": 76,
     "metadata": {},
     "output_type": "execute_result"
    }
   ],
   "source": [
    "df[df['posting_date'] == '05/21/2020']"
   ]
  },
  {
   "cell_type": "code",
   "execution_count": 77,
   "metadata": {},
   "outputs": [],
   "source": [
    "links = driver.find_elements_by_class_name('result-card__full-card-link')"
   ]
  },
  {
   "cell_type": "code",
   "execution_count": 78,
   "metadata": {},
   "outputs": [
    {
     "data": {
      "text/plain": [
       "<selenium.webdriver.remote.webelement.WebElement (session=\"0e0612168c01ca169b011a5988374ab7\", element=\"0.02682904308510281-2\")>"
      ]
     },
     "execution_count": 78,
     "metadata": {},
     "output_type": "execute_result"
    }
   ],
   "source": [
    "links[0]"
   ]
  },
  {
   "cell_type": "code",
   "execution_count": 79,
   "metadata": {},
   "outputs": [],
   "source": [
    "links[1].click()"
   ]
  },
  {
   "cell_type": "code",
   "execution_count": 80,
   "metadata": {},
   "outputs": [],
   "source": [
    "# job title\n",
    "my_html_job = driver.page_source\n",
    "soup = BeautifulSoup(my_html_job, 'html.parser')"
   ]
  },
  {
   "cell_type": "code",
   "execution_count": 83,
   "metadata": {},
   "outputs": [
    {
     "data": {
      "text/plain": [
       "'Data Scientist'"
      ]
     },
     "execution_count": 83,
     "metadata": {},
     "output_type": "execute_result"
    }
   ],
   "source": [
    "soup.find('h2', class_ = 'topcard__title').text.strip()"
   ]
  },
  {
   "cell_type": "code",
   "execution_count": 86,
   "metadata": {},
   "outputs": [
    {
     "data": {
      "text/plain": [
       "'Hedge Fund Talent'"
      ]
     },
     "execution_count": 86,
     "metadata": {},
     "output_type": "execute_result"
    }
   ],
   "source": [
    "# company \n",
    "soup.find('span', class_ = 'topcard__flavor').text.strip()"
   ]
  },
  {
   "cell_type": "code",
   "execution_count": 88,
   "metadata": {},
   "outputs": [
    {
     "data": {
      "text/plain": [
       "'New York, NY'"
      ]
     },
     "execution_count": 88,
     "metadata": {},
     "output_type": "execute_result"
    }
   ],
   "source": [
    "# location\n",
    "soup.find('span', class_ = 'topcard__flavor topcard__flavor--bullet').text.strip()"
   ]
  },
  {
   "cell_type": "code",
   "execution_count": 91,
   "metadata": {},
   "outputs": [
    {
     "data": {
      "text/plain": [
       "'92 applicants'"
      ]
     },
     "execution_count": 91,
     "metadata": {},
     "output_type": "execute_result"
    }
   ],
   "source": [
    "# applicants \n",
    "soup.find('span', class_ = 'topcard__flavor--metadata topcard__flavor--bullet num-applicants__caption').text.strip()"
   ]
  },
  {
   "cell_type": "code",
   "execution_count": 93,
   "metadata": {},
   "outputs": [
    {
     "data": {
      "text/plain": [
       "'Mid-Senior level'"
      ]
     },
     "execution_count": 93,
     "metadata": {},
     "output_type": "execute_result"
    }
   ],
   "source": [
    "# senority level \n",
    "soup.find('span', class_ = 'job-criteria__text job-criteria__text--criteria').text.strip()"
   ]
  },
  {
   "cell_type": "code",
   "execution_count": 95,
   "metadata": {},
   "outputs": [
    {
     "data": {
      "text/plain": [
       "\"Are you a Data Scientist that is interested in working with one of world's leading Quantitative Hedge Funds?  Are you a Data Scientist that would enjoy working with a cutting-edge  financial and engineering teams and to expand their data science and  machine learning capabilities?   This New York City based leading Quantitative Hedge Fund  seeks a talented Data Scientist that will work closely with the  finance, operations, as well as other investment teams across the firm.  As the Data Scientist, you will: Manage large amounts of complex data in Python and running quantitative queries. Identify timely and unique data sets, diving deep into a diverse set  of data domains as well as visualizing and exploring underlying data  drivers Build statistical analysis and financial modeling techniques to large data sets.  What you need: Master's or PhD degree from a competitive university in a quantitative  field such as statistics, mathematics, operational research, computer  science, finance or economics. Quantitative and Developer experience (Python and/or object oriented programming) Prior experience working or Internship at a Financial firm or leading  technology (Google, Facebook, Amazon, etc...) firm is helpful Proficiency with statistical and data analysis and programming tools such as R, SAS, Stata, SQL or Matlab.Show moreShow less\""
      ]
     },
     "execution_count": 95,
     "metadata": {},
     "output_type": "execute_result"
    }
   ],
   "source": [
    "# description\n",
    "soup.find('div', class_ = 'description__text description__text--rich').text"
   ]
  },
  {
   "cell_type": "code",
   "execution_count": null,
   "metadata": {},
   "outputs": [
    {
     "name": "stdout",
     "output_type": "stream",
     "text": [
      "25\n",
      "50\n",
      "75\n",
      "100\n",
      "125\n",
      "150\n",
      "175\n",
      "200\n",
      "225\n",
      "250\n",
      "275\n",
      "300\n",
      "325\n",
      "350\n",
      "375\n",
      "400\n",
      "425\n",
      "450\n",
      "475\n",
      "500\n",
      "525\n",
      "550\n",
      "575\n",
      "600\n",
      "625\n",
      "650\n"
     ]
    }
   ],
   "source": [
    "my_rows = []\n",
    "\n",
    "error_rows = []\n",
    "\n",
    "for counter, link in enumerate(links):\n",
    "    if (counter > 0) & (counter % 25 == 0):\n",
    "        print(counter)\n",
    "    try:\n",
    "        # click on link\n",
    "        link.click()\n",
    "        \n",
    "        # grab html\n",
    "        my_html_job = driver.page_source\n",
    "        soup = BeautifulSoup(my_html_job, 'html.parser')\n",
    "        \n",
    "        # job title\n",
    "        jt = soup.find('h2', class_ = 'topcard__title').text.strip()\n",
    "        \n",
    "        # company \n",
    "        comp = soup.find('span', class_ = 'topcard__flavor').text.strip()\n",
    "        \n",
    "        # location\n",
    "        loca = soup.find('span', class_ = 'topcard__flavor topcard__flavor--bullet').text.strip()\n",
    "        \n",
    "        # applicants\n",
    "        applica = soup.find('span', class_ = 'topcard__flavor--metadata topcard__flavor--bullet num-applicants__caption').text.strip()\n",
    "        \n",
    "        # sensority level\n",
    "        senor = soup.find('span', class_ = 'job-criteria__text job-criteria__text--criteria').text.strip()\n",
    "        \n",
    "        # description\n",
    "        desc = soup.find('div', class_ = 'description__text description__text--rich').text\n",
    "        \n",
    "        job_dict = {'job_title': jt,\n",
    "                   'company': comp,\n",
    "                   'location': loca,\n",
    "                    'applicants': applica,\n",
    "                    'senority': senor,\n",
    "                    'description': desc\n",
    "                   }\n",
    "        my_rows.append(job_dict)\n",
    "        \n",
    "    except:\n",
    "        error_rows.append(counter)"
   ]
  },
  {
   "cell_type": "code",
   "execution_count": null,
   "metadata": {},
   "outputs": [],
   "source": []
  }
 ],
 "metadata": {
  "kernelspec": {
   "display_name": "Python 3",
   "language": "python",
   "name": "python3"
  },
  "language_info": {
   "codemirror_mode": {
    "name": "ipython",
    "version": 3
   },
   "file_extension": ".py",
   "mimetype": "text/x-python",
   "name": "python",
   "nbconvert_exporter": "python",
   "pygments_lexer": "ipython3",
   "version": "3.7.4"
  }
 },
 "nbformat": 4,
 "nbformat_minor": 2
}
